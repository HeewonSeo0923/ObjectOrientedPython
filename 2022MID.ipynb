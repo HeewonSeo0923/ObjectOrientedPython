{
 "cells": [
  {
   "cell_type": "code",
   "execution_count": 1,
   "metadata": {
    "collapsed": true,
    "pycharm": {
     "name": "#%%\n"
    }
   },
   "outputs": [
    {
     "name": "stdout",
     "output_type": "stream",
     "text": [
      "<__main__.A object at 0x7f787888f760>\n"
     ]
    }
   ],
   "source": [
    "class A:\n",
    "    def __init__(self, a, b = 10):\n",
    "        self.a = a\n",
    "        self.b = b\n",
    "\n",
    "a = A(3)\n",
    "print(a)"
   ]
  },
  {
   "cell_type": "code",
   "execution_count": 4,
   "outputs": [
    {
     "name": "stdout",
     "output_type": "stream",
     "text": [
      "“Sally”\n"
     ]
    }
   ],
   "source": [
    "class Person:\n",
    "    def __init__(self, name):\n",
    "       self.name = name\n",
    "    def printName(self):\n",
    "       print(self.name)\n",
    "if __name__ == '__main__':\n",
    "    person1 = Person(\"“Sally”\")\n",
    "    person2 = Person(\"“John”\")\n",
    "    person1.printName()"
   ],
   "metadata": {
    "collapsed": false,
    "pycharm": {
     "name": "#%%\n"
    }
   }
  },
  {
   "cell_type": "code",
   "execution_count": 7,
   "outputs": [
    {
     "name": "stdout",
     "output_type": "stream",
     "text": [
      "Hello world\n"
     ]
    }
   ],
   "source": [
    "class Test:\n",
    "    def __init__(self, a ='Hello world'):\n",
    "        self.a = a\n",
    "    def display(self):\n",
    "       print(self.a)\n",
    "if __name__ == '__main__':\n",
    "    obj = Test()\n",
    "    obj.display()"
   ],
   "metadata": {
    "collapsed": false,
    "pycharm": {
     "name": "#%%\n"
    }
   }
  },
  {
   "cell_type": "code",
   "execution_count": 8,
   "outputs": [
    {
     "ename": "AttributeError",
     "evalue": "'Demo' object has no attribute '__b'",
     "output_type": "error",
     "traceback": [
      "\u001B[0;31m---------------------------------------------------------------------------\u001B[0m",
      "\u001B[0;31mAttributeError\u001B[0m                            Traceback (most recent call last)",
      "Input \u001B[0;32mIn [8]\u001B[0m, in \u001B[0;36m<cell line: 7>\u001B[0;34m()\u001B[0m\n\u001B[1;32m      7\u001B[0m \u001B[38;5;28;01mif\u001B[39;00m \u001B[38;5;18m__name__\u001B[39m \u001B[38;5;241m==\u001B[39m \u001B[38;5;124m'\u001B[39m\u001B[38;5;124m__main__\u001B[39m\u001B[38;5;124m'\u001B[39m:\n\u001B[1;32m      8\u001B[0m     obj \u001B[38;5;241m=\u001B[39m Demo()\n\u001B[0;32m----> 9\u001B[0m     \u001B[38;5;28mprint\u001B[39m(\u001B[43mobj\u001B[49m\u001B[38;5;241;43m.\u001B[39;49m\u001B[43m__b\u001B[49m)\n",
      "\u001B[0;31mAttributeError\u001B[0m: 'Demo' object has no attribute '__b'"
     ]
    }
   ],
   "source": [
    "class Demo:\n",
    "    def __init__(self):\n",
    "       self.a = 1\n",
    "       self.__b = 2\n",
    "    def display(self):\n",
    "       return self.__b\n",
    "if __name__ == '__main__':\n",
    "    obj = Demo()\n",
    "    print(obj.__b)"
   ],
   "metadata": {
    "collapsed": false,
    "pycharm": {
     "name": "#%%\n"
    }
   }
  },
  {
   "cell_type": "code",
   "execution_count": 1,
   "outputs": [
    {
     "ename": "AttributeError",
     "evalue": "'A' object has no attribute '_B__x'",
     "output_type": "error",
     "traceback": [
      "\u001B[0;31m---------------------------------------------------------------------------\u001B[0m",
      "\u001B[0;31mAttributeError\u001B[0m                            Traceback (most recent call last)",
      "Input \u001B[0;32mIn [1]\u001B[0m, in \u001B[0;36m<cell line: 13>\u001B[0;34m()\u001B[0m\n\u001B[1;32m     13\u001B[0m \u001B[38;5;28;01mif\u001B[39;00m \u001B[38;5;18m__name__\u001B[39m \u001B[38;5;241m==\u001B[39m \u001B[38;5;124m'\u001B[39m\u001B[38;5;124m__main__\u001B[39m\u001B[38;5;124m'\u001B[39m:\n\u001B[1;32m     14\u001B[0m     b \u001B[38;5;241m=\u001B[39m B()\n\u001B[0;32m---> 15\u001B[0m     \u001B[38;5;28mprint\u001B[39m(\u001B[43mb\u001B[49m\u001B[38;5;241;43m.\u001B[39;49m\u001B[43mnana\u001B[49m\u001B[43m(\u001B[49m\u001B[38;5;241;43m1\u001B[39;49m\u001B[43m,\u001B[49m\u001B[43m \u001B[49m\u001B[38;5;241;43m2\u001B[39;49m\u001B[43m)\u001B[49m)\n",
      "Input \u001B[0;32mIn [1]\u001B[0m, in \u001B[0;36mB.nana\u001B[0;34m(self, x, y)\u001B[0m\n\u001B[1;32m     10\u001B[0m \u001B[38;5;28;01mdef\u001B[39;00m \u001B[38;5;21mnana\u001B[39m(\u001B[38;5;28mself\u001B[39m, x, y):\n\u001B[1;32m     11\u001B[0m    a \u001B[38;5;241m=\u001B[39m A(x, x\u001B[38;5;241m+\u001B[39my)\n\u001B[0;32m---> 12\u001B[0m    \u001B[38;5;28;01mreturn\u001B[39;00m (\u001B[43ma\u001B[49m\u001B[38;5;241;43m.\u001B[39;49m\u001B[43m__x\u001B[49m, a\u001B[38;5;241m.\u001B[39my, \u001B[38;5;28mself\u001B[39m\u001B[38;5;241m.\u001B[39mz)\n",
      "\u001B[0;31mAttributeError\u001B[0m: 'A' object has no attribute '_B__x'"
     ]
    }
   ],
   "source": [
    "class A:\n",
    "    def __init__(self, x, y):\n",
    "       self.__x = x\n",
    "       self.y = y\n",
    "    def display(self):\n",
    "       return self.__b\n",
    "class B:\n",
    "    def __init__(self, z=3):\n",
    "        self.z= z\n",
    "    def nana(self, x, y):\n",
    "       a = A(x, x+y)\n",
    "       return (a.__x, a.y, self.z)\n",
    "if __name__ == '__main__':\n",
    "    b = B()\n",
    "    print(b.nana(1, 2))"
   ],
   "metadata": {
    "collapsed": false,
    "pycharm": {
     "name": "#%%\n"
    }
   }
  },
  {
   "cell_type": "code",
   "execution_count": 16,
   "outputs": [
    {
     "name": "stdout",
     "output_type": "stream",
     "text": [
      "Chapters:8, Pages: 500\n"
     ]
    }
   ],
   "source": [
    "class Book:\n",
    "    def __init__(self, chapters, pages):\n",
    "        self.chapters = chapters\n",
    "        self.pages = pages\n",
    "    def __str__(self):\n",
    "        return f'Chapters:{self.chapters}, Pages: {self.pages}'\n",
    "\n",
    "\n",
    "class EBook(Book):\n",
    "    def __init__(self, chapters, pages, format):\n",
    "        super().__init__(chapters, pages)\n",
    "        self.format = format\n",
    "\n",
    "if __name__ == '__main__':\n",
    "    python = EBook(8, 500, 'pdf')\n",
    "    print(python)"
   ],
   "metadata": {
    "collapsed": false,
    "pycharm": {
     "name": "#%%\n"
    }
   }
  },
  {
   "cell_type": "code",
   "execution_count": 19,
   "outputs": [
    {
     "name": "stdout",
     "output_type": "stream",
     "text": [
      "eating\n"
     ]
    }
   ],
   "source": [
    "class Animal:\n",
    "    def eat(self):\n",
    "        print('eating')\n",
    "\n",
    "class Dog(Animal):\n",
    "    def bark(self):\n",
    "        print('barking')\n",
    "\n",
    "if __name__ == '__main__':\n",
    "    d = Dog()\n",
    "    d.eat()"
   ],
   "metadata": {
    "collapsed": false,
    "pycharm": {
     "name": "#%%\n"
    }
   }
  },
  {
   "cell_type": "code",
   "execution_count": 20,
   "outputs": [
    {
     "data": {
      "text/plain": "True"
     },
     "execution_count": 20,
     "metadata": {},
     "output_type": "execute_result"
    }
   ],
   "source": [
    "isinstance(d, Dog)"
   ],
   "metadata": {
    "collapsed": false,
    "pycharm": {
     "name": "#%%\n"
    }
   }
  },
  {
   "cell_type": "code",
   "execution_count": 21,
   "outputs": [
    {
     "data": {
      "text/plain": "True"
     },
     "execution_count": 21,
     "metadata": {},
     "output_type": "execute_result"
    }
   ],
   "source": [
    "isinstance(d, Animal)"
   ],
   "metadata": {
    "collapsed": false,
    "pycharm": {
     "name": "#%%\n"
    }
   }
  },
  {
   "cell_type": "code",
   "execution_count": 22,
   "outputs": [
    {
     "data": {
      "text/plain": "True"
     },
     "execution_count": 22,
     "metadata": {},
     "output_type": "execute_result"
    }
   ],
   "source": [
    "issubclass(Dog, Animal)"
   ],
   "metadata": {
    "collapsed": false,
    "pycharm": {
     "name": "#%%\n"
    }
   }
  },
  {
   "cell_type": "code",
   "execution_count": 23,
   "outputs": [
    {
     "name": "stdout",
     "output_type": "stream",
     "text": [
      "1\n"
     ]
    }
   ],
   "source": [
    "class Q :\n",
    "    num = 0\n",
    "    def __init__(self, stmt):\n",
    "        self.__stmt = stmt\n",
    "        Q.num += 1\n",
    "\n",
    "if __name__ == '__main__':\n",
    "    q = [Q(f'P.{n+1}' for n in range(5))]\n",
    "    print(Q.num)"
   ],
   "metadata": {
    "collapsed": false,
    "pycharm": {
     "name": "#%%\n"
    }
   }
  },
  {
   "cell_type": "code",
   "execution_count": 24,
   "outputs": [
    {
     "name": "stdout",
     "output_type": "stream",
     "text": [
      "1, 1\n"
     ]
    }
   ],
   "source": [
    "class X:\n",
    "    orange = 0\n",
    "    def __init__(self):\n",
    "       X.orange += 1\n",
    "class Y:\n",
    "    def __init__(self):\n",
    "       self.banana = 1\n",
    "    def add(self):\n",
    "       x = X()\n",
    "       print(f'{self.banana}, {x.orange}')\n",
    "if __name__ == '__main__':\n",
    "    y = Y()\n",
    "y.add()"
   ],
   "metadata": {
    "collapsed": false,
    "pycharm": {
     "name": "#%%\n"
    }
   }
  },
  {
   "cell_type": "code",
   "execution_count": 25,
   "outputs": [
    {
     "name": "stdout",
     "output_type": "stream",
     "text": [
      "8\n"
     ]
    }
   ],
   "source": [
    "class Rectangle:\n",
    "    def __init__(self, width=1, height=1):\n",
    "       self.__width = width\n",
    "       self.__height = height\n",
    "    @property\n",
    "    def area(self):\n",
    "       return self.__width*self.__height\n",
    "if __name__ == '__main__':\n",
    "    rect = Rectangle(2, 4)\n",
    "    print(rect.area)"
   ],
   "metadata": {
    "collapsed": false,
    "pycharm": {
     "name": "#%%\n"
    }
   }
  },
  {
   "cell_type": "code",
   "execution_count": 28,
   "outputs": [
    {
     "name": "stdout",
     "output_type": "stream",
     "text": [
      "1, 100\n"
     ]
    }
   ],
   "source": [
    "class A:\n",
    "    def __init__(self, x):\n",
    "        self._x = x\n",
    "    @property\n",
    "    def x(self):\n",
    "       return self._x\n",
    "    def __str__(self):\n",
    "       return self._x\n",
    "class B(A):\n",
    "    def __init__(self, x, y):\n",
    "       A.__init__(self, x)\n",
    "       self.__y = y\n",
    "    def change(self, other):\n",
    "       self._x = other.x\n",
    "    def __str__(self):\n",
    "       return f'{super().__str__()}, {self.__y}'\n",
    "if __name__ == '__main__':\n",
    "    a, b = A(1), B(10, 100)\n",
    "    b.change(a)\n",
    "    print(b)"
   ],
   "metadata": {
    "collapsed": false,
    "pycharm": {
     "name": "#%%\n"
    }
   }
  },
  {
   "cell_type": "code",
   "execution_count": 53,
   "outputs": [],
   "source": [
    "class Item:\n",
    "    def __init__(self, name, price):\n",
    "       self._name = name\n",
    "       self._price = price\n",
    "\n",
    "    # 은폐 속성 price에 대한 프로퍼티\n",
    "    @property\n",
    "    def price(self):\n",
    "        return self._price\n",
    "\n",
    "class DiscountedItem(Item):\n",
    "    def __init__(self, name, price, discounted_rate):\n",
    "        super().__init__(name, price)\n",
    "        self.__discounted_rate = discounted_rate\n",
    "\n",
    "    def calculate_price(self):\n",
    "        return self.price * (1 - self.__discounted_rate)"
   ],
   "metadata": {
    "collapsed": false,
    "pycharm": {
     "name": "#%%\n"
    }
   }
  },
  {
   "cell_type": "code",
   "execution_count": 54,
   "outputs": [
    {
     "name": "stdout",
     "output_type": "stream",
     "text": [
      "총 지불 금액: 2360.0\n",
      "할인 총액: 840.0\n"
     ]
    }
   ],
   "source": [
    "buying_items = [DiscountedItem('TV', 2000, 0.3),\n",
    "                 DiscountedItem('Laptop', 1200, 0.2)]\n",
    "total_price, discounted_price = 0, 0\n",
    "for item in buying_items:\n",
    "    sales_price = item.calculate_price()\n",
    "    total_price += sales_price\n",
    "    discounted_price += item.price - sales_price\n",
    "print(f'총 지불 금액: {total_price}')\n",
    "print(f'할인 총액: {discounted_price}')"
   ],
   "metadata": {
    "collapsed": false,
    "pycharm": {
     "name": "#%%\n"
    }
   }
  },
  {
   "cell_type": "code",
   "execution_count": null,
   "outputs": [],
   "source": [],
   "metadata": {
    "collapsed": false,
    "pycharm": {
     "name": "#%%\n"
    }
   }
  }
 ],
 "metadata": {
  "kernelspec": {
   "display_name": "Python 3",
   "language": "python",
   "name": "python3"
  },
  "language_info": {
   "codemirror_mode": {
    "name": "ipython",
    "version": 2
   },
   "file_extension": ".py",
   "mimetype": "text/x-python",
   "name": "python",
   "nbconvert_exporter": "python",
   "pygments_lexer": "ipython2",
   "version": "2.7.6"
  }
 },
 "nbformat": 4,
 "nbformat_minor": 0
}